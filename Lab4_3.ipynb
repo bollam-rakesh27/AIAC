{
  "nbformat": 4,
  "nbformat_minor": 0,
  "metadata": {
    "colab": {
      "provenance": [],
      "authorship_tag": "ABX9TyMz6i4eDbD9WFlM1DtiRv8F",
      "include_colab_link": true
    },
    "kernelspec": {
      "name": "python3",
      "display_name": "Python 3"
    },
    "language_info": {
      "name": "python"
    }
  },
  "cells": [
    {
      "cell_type": "markdown",
      "metadata": {
        "id": "view-in-github",
        "colab_type": "text"
      },
      "source": [
        "<a href=\"https://colab.research.google.com/github/bollam-rakesh27/AIAC/blob/main/Lab4_3.ipynb\" target=\"_parent\"><img src=\"https://colab.research.google.com/assets/colab-badge.svg\" alt=\"Open In Colab\"/></a>"
      ]
    },
    {
      "cell_type": "markdown",
      "source": [],
      "metadata": {
        "id": "YDOFZ-TV-21F"
      }
    },
    {
      "cell_type": "markdown",
      "source": [
        "Task Description#1\n",
        "● Zero-shot: Prompt AI to write a function that checks whether a given year is a leap year.\n",
        "Expected Output#1\n",
        "● AI-generated function with no examples provided."
      ],
      "metadata": {
        "id": "MgIOBe38_5kc"
      }
    },
    {
      "cell_type": "code",
      "source": [
        "def is_leap(year):\n",
        "    \"\"\"\n",
        "    Checks if a given year is a leap year.\n",
        "\n",
        "    Args:\n",
        "        year: An integer representing the year.\n",
        "\n",
        "    Returns:\n",
        "        True if the year is a leap year, False otherwise.\n",
        "    \"\"\"\n",
        "    return (year % 4 == 0 and year % 100 != 0) or (year % 400 == 0)\n",
        "\n",
        "# Take input from the user\n",
        "try:\n",
        "    year = int(input(\"Enter a year: \"))\n",
        "    if is_leap(year):\n",
        "        print(f\"{year} is a leap year\")\n",
        "    else:\n",
        "        print(f\"{year} is not a leap year\")\n",
        "except ValueError:\n",
        "    print(\"Invalid input. Please enter an integer for the year.\")"
      ],
      "metadata": {
        "colab": {
          "base_uri": "https://localhost:8080/"
        },
        "id": "HdZ5ycHBAhAq",
        "outputId": "e3498cc4-800b-42db-d0f7-ce621141bcc1"
      },
      "execution_count": 29,
      "outputs": [
        {
          "output_type": "stream",
          "name": "stdout",
          "text": [
            "Enter a year: 2024\n",
            "2024 is a leap year\n"
          ]
        }
      ]
    },
    {
      "cell_type": "markdown",
      "source": [
        "Task Description#2\n",
        "● One-shot: Give one input-output example to guide AI in writing a function that\n",
        "converts centimeters to inches.\n",
        "Expected Output#2\n",
        "● Function with correct conversion logic."
      ],
      "metadata": {
        "id": "-GMXlVp_BW2s"
      }
    },
    {
      "cell_type": "code",
      "source": [
        "def cm_to_inches(cm):\n",
        "    \"\"\"\n",
        "    Converts centimeters to inches.\n",
        "\n",
        "    Args:\n",
        "        cm: A float representing the length in centimeters.\n",
        "\n",
        "    Returns:\n",
        "        A float representing the length in inches.\n",
        "    \"\"\"\n",
        "    return cm * 0.39\n",
        "\n",
        "# Take input from the user\n",
        "try:\n",
        "    cm_value = float(input(\"Enter length in centimeters: \"))\n",
        "    inches_value = cm_to_inches(cm_value)\n",
        "    print(f\"{cm_value} centimeters is equal to {inches_value} inches\")\n",
        "except ValueError:\n",
        "    print(\"Invalid input. Please enter a valid number for centimeters.\")"
      ],
      "metadata": {
        "colab": {
          "base_uri": "https://localhost:8080/"
        },
        "id": "TrDDqadSBdIl",
        "outputId": "1c139f25-2453-48ad-bddf-b429fde592bb"
      },
      "execution_count": 30,
      "outputs": [
        {
          "output_type": "stream",
          "name": "stdout",
          "text": [
            "Enter length in centimeters: 3\n",
            "3.0 centimeters is equal to 1.17 inches\n"
          ]
        }
      ]
    },
    {
      "cell_type": "markdown",
      "source": [
        "Task Description#3\n",
        "● Few-shot: Provide 2–3 examples to generate a function that formats full names as “Last, First”.\n",
        "Expected Output#3\n",
        "● Well-structured function respecting the examples."
      ],
      "metadata": {
        "id": "d_VMknZdCJpD"
      }
    },
    {
      "cell_type": "code",
      "source": [
        "def format_name(full_name):\n",
        "    \"\"\"\n",
        "    Formats a full name as \"Last, First\".\n",
        "\n",
        "    Args:\n",
        "        full_name: A string representing the full name (e.g., \"First Last\").\n",
        "\n",
        "    Returns:\n",
        "        A string representing the name formatted as \"Last, First\".\n",
        "        Returns an informative message if the input is not in the expected format.\n",
        "    \"\"\"\n",
        "    names = full_name.split()\n",
        "    if len(names) == 2:\n",
        "        return f\"{names[1]}, {names[0]}\"\n",
        "    else:\n",
        "        return \"Invalid format. Please enter a full name with a first and last name.\"\n"
      ],
      "metadata": {
        "id": "shwm6JSGVxg0"
      },
      "execution_count": 31,
      "outputs": []
    },
    {
      "cell_type": "code",
      "metadata": {
        "colab": {
          "base_uri": "https://localhost:8080/"
        },
        "id": "b9156f8f",
        "outputId": "7b7369ea-941f-4780-ae73-83d4a21acf7e"
      },
      "source": [
        "# Use the format_name function with user input\n",
        "full_name_input = input(\"Enter a full name (e.g., First Last): \")\n",
        "\n",
        "# Extract first and last names\n",
        "names = full_name_input.split()\n",
        "\n",
        "if len(names) == 2:\n",
        "    first_name = names[0]\n",
        "    last_name = names[1]\n",
        "    formatted_name_output = format_name(full_name_input)\n",
        "\n",
        "    print(f\"Original full name: {full_name_input}\")\n",
        "    print(f\"First name: {first_name}\")\n",
        "    print(f\"Last name: {last_name}\")\n",
        "    print(f\"Formatted name: {formatted_name_output}\")\n",
        "else:\n",
        "    print(\"Invalid format. Please enter a full name with a first and last name.\")"
      ],
      "execution_count": 32,
      "outputs": [
        {
          "output_type": "stream",
          "name": "stdout",
          "text": [
            "Enter a full name (e.g., First Last): Savin Thallapelly\n",
            "Original full name: Savin Thallapelly\n",
            "First name: Savin\n",
            "Last name: Thallapelly\n",
            "Formatted name: Thallapelly, Savin\n"
          ]
        }
      ]
    },
    {
      "cell_type": "markdown",
      "source": [
        "Task Description#4\n",
        "● Compare zero-shot and few-shot prompts for writing a function that counts the\n",
        "number of vowels in a string.\n",
        "Expected Output#4\n",
        "● Functional output and comparative reflection."
      ],
      "metadata": {
        "id": "cauKtGV8WQ_X"
      }
    },
    {
      "cell_type": "markdown",
      "source": [
        "Zero Shot:"
      ],
      "metadata": {
        "id": "3VuHRL-2WvkS"
      }
    },
    {
      "cell_type": "code",
      "source": [
        "def count_vowels(text):\n",
        "    \"\"\"\n",
        "    Counts the number of vowels in a given string.\n",
        "\n",
        "    Args:\n",
        "        text: The input string.\n",
        "\n",
        "    Returns:\n",
        "        The number of vowels in the string.\n",
        "    \"\"\"\n",
        "    vowels = \"aeiouAEIOU\"\n",
        "    vowel_count = 0\n",
        "    for char in text:\n",
        "        if char in vowels:\n",
        "            vowel_count += 1\n",
        "    return vowel_count\n",
        "\n",
        "# Take input from the user\n",
        "user_string = input(\"Enter a string: \")\n",
        "num_vowels = count_vowels(user_string)\n",
        "\n",
        "print(f\"The number of vowels in the string is: {num_vowels}\")"
      ],
      "metadata": {
        "colab": {
          "base_uri": "https://localhost:8080/"
        },
        "id": "JYtKeOndXBBt",
        "outputId": "a4945f36-e86c-46a3-f55e-1f969aad2baf"
      },
      "execution_count": 33,
      "outputs": [
        {
          "output_type": "stream",
          "name": "stdout",
          "text": [
            "Enter a string: I am a student in sru\n",
            "The number of vowels in the string is: 7\n"
          ]
        }
      ]
    },
    {
      "cell_type": "markdown",
      "source": [
        "Few Shot:"
      ],
      "metadata": {
        "id": "e7Im32O0YKxo"
      }
    },
    {
      "cell_type": "code",
      "source": [
        "def count_vowels(text):\n",
        "    \"\"\"\n",
        "    Counts the number of vowels in a given string.\n",
        "\n",
        "    Args:\n",
        "        text: The input string.\n",
        "\n",
        "    Returns:\n",
        "        The number of vowels in the string.\n",
        "    \"\"\"\n",
        "    vowels = \"aeiouAEIOU\"\n",
        "    vowel_count = 0\n",
        "    for char in text:\n",
        "        if char in vowels:\n",
        "            vowel_count += 1\n",
        "    return vowel_count\n",
        "\n",
        "# Take input from the user\n",
        "user_string = input(\"Enter a string: \")\n",
        "num_vowels = count_vowels(user_string)\n",
        "\n",
        "print(f\"No.of.vowels={num_vowels}\")\n"
      ],
      "metadata": {
        "colab": {
          "base_uri": "https://localhost:8080/"
        },
        "id": "ns_rTgDeYOFi",
        "outputId": "46f857c4-8bca-4faf-9193-f364b1a9b6de"
      },
      "execution_count": 34,
      "outputs": [
        {
          "output_type": "stream",
          "name": "stdout",
          "text": [
            "Enter a string: I am student in sru\n",
            "No.of.vowels=6\n"
          ]
        }
      ]
    },
    {
      "cell_type": "markdown",
      "source": [
        "ask Description#5\n",
        "● Use few-shot prompting to generate a function that reads a .txt file and returns the number of lines.\n",
        "Expected Output#5\n",
        "● Working file-processing function with AI-guided logic"
      ],
      "metadata": {
        "id": "On2p0TFkXcO1"
      }
    },
    {
      "cell_type": "code",
      "source": [
        "try:\n",
        "    with open('/content/text.txt', 'r') as file:\n",
        "        line_count = 0\n",
        "        for line in file:\n",
        "            line_count += 1\n",
        "        print(f\"The file /content/text.txt has {line_count} lines.\")\n",
        "except FileNotFoundError:\n",
        "    print(\"Error: The file /content/text.txt was not found.\")\n",
        "except Exception as e:\n",
        "    print(f\"An error occurred: {e}\")"
      ],
      "metadata": {
        "colab": {
          "base_uri": "https://localhost:8080/"
        },
        "id": "vXY9e2AVXmKJ",
        "outputId": "cef65e5b-c81d-4cd6-8582-b17ada2bed0c"
      },
      "execution_count": 35,
      "outputs": [
        {
          "output_type": "stream",
          "name": "stdout",
          "text": [
            "The file /content/text.txt has 3 lines.\n"
          ]
        }
      ]
    }
  ]
}