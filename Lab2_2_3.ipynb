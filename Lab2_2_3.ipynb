{
  "nbformat": 4,
  "nbformat_minor": 0,
  "metadata": {
    "colab": {
      "provenance": [],
      "authorship_tag": "ABX9TyMQmyRA8oGGlkUilej7oiZ7",
      "include_colab_link": true
    },
    "kernelspec": {
      "name": "python3",
      "display_name": "Python 3"
    },
    "language_info": {
      "name": "python"
    }
  },
  "cells": [
    {
      "cell_type": "markdown",
      "metadata": {
        "id": "view-in-github",
        "colab_type": "text"
      },
      "source": [
        "<a href=\"https://colab.research.google.com/github/bollam-rakesh27/AIAC/blob/main/Lab2_2_3.ipynb\" target=\"_parent\"><img src=\"https://colab.research.google.com/assets/colab-badge.svg\" alt=\"Open In Colab\"/></a>"
      ]
    },
    {
      "cell_type": "markdown",
      "source": [
        "Task Description#1\n",
        "● Use Google Gemini in Colab to write a function that reads a CSV file and calculates mean, min, max.\n",
        "Expected Output#1\n",
        "● Functional code with output and screensho"
      ],
      "metadata": {
        "id": "rb2KbjTK_Fpb"
      }
    },
    {
      "cell_type": "code",
      "metadata": {
        "id": "7efe62da"
      },
      "source": [
        "import pandas as pd\n",
        "\n",
        "def analyze_csv_column(file_path, column_name):\n",
        "  \"\"\"\n",
        "  Reads a CSV file, calculates mean, min, and max of a specified column.\n",
        "\n",
        "  Args:\n",
        "    file_path (str): The path to the CSV file.\n",
        "    column_name (str): The name of the column to analyze.\n",
        "\n",
        "  Returns:\n",
        "    tuple: A tuple containing (mean, min, max) of the column, or None if an error occurs.\n",
        "  \"\"\"\n",
        "  try:\n",
        "    df = pd.read_csv(file_path)\n",
        "    if column_name not in df.columns:\n",
        "      print(f\"Error: Column '{column_name}' not found in the CSV file.\")\n",
        "      return None\n",
        "\n",
        "    # Ensure the column is numeric\n",
        "    df[column_name] = pd.to_numeric(df[column_name], errors='coerce')\n",
        "\n",
        "    # Drop rows where conversion to numeric failed\n",
        "    df.dropna(subset=[column_name], inplace=True)\n",
        "\n",
        "    if df[column_name].empty:\n",
        "        print(f\"Error: Column '{column_name}' contains no valid numeric data.\")\n",
        "        return None\n",
        "\n",
        "    mean_val = df[column_name].mean()\n",
        "    min_val = df[column_name].min()\n",
        "    max_val = df[column_name].max()\n",
        "\n",
        "    return (mean_val, min_val, max_val)\n",
        "\n",
        "  except FileNotFoundError:\n",
        "    print(f\"Error: File not found at '{file_path}'\")\n",
        "    return None\n",
        "  except Exception as e:\n",
        "    print(f\"An error occurred: {e}\")\n",
        "    return None\n",
        "\n"
      ],
      "execution_count": 14,
      "outputs": []
    },
    {
      "cell_type": "code",
      "metadata": {
        "colab": {
          "base_uri": "https://localhost:8080/"
        },
        "id": "820d9445",
        "outputId": "46b1d969-5bcc-400f-bd84-7ecf42d8ff2a"
      },
      "source": [
        "\n",
        "\n",
        " file_path = \"/content/Lab2_2.3.csv\"\n",
        " column_name = \"Marks\"\n",
        "\n",
        " results = analyze_csv_column(file_path, column_name)\n",
        "\n",
        " if results:\n",
        "   mean_val, min_val, max_val = results\n",
        "   print(f\"Analysis for column '{column_name}':\")\n",
        "   print(f\"Mean: {mean_val}\")\n",
        "   print(f\"Min: {min_val}\")\n",
        "   print(f\"Max: {max_val}\")\n",
        " else:\n",
        "   print(f\"Could not analyze column '{column_name}'. Check file path and column name.\")"
      ],
      "execution_count": 15,
      "outputs": [
        {
          "output_type": "stream",
          "name": "stdout",
          "text": [
            "Analysis for column 'Marks':\n",
            "Mean: 27.666666666666668\n",
            "Min: 12\n",
            "Max: 48\n"
          ]
        }
      ]
    },
    {
      "cell_type": "markdown",
      "source": [
        "Task Description#2\n",
        "● Compare Gemini and Copilot outputs for a palindrome check function.\n",
        "Expected Output#2\n",
        "● Side-by-side comparison and observations"
      ],
      "metadata": {
        "id": "3D_9IFQbtoBT"
      }
    },
    {
      "cell_type": "code",
      "source": [
        "def is_palindrome(number):\n",
        "  \"\"\"\n",
        "  Checks if a given number is a palindrome.\n",
        "\n",
        "  Args:\n",
        "    number: The number to check.\n",
        "\n",
        "  Returns:\n",
        "    True if the number is a palindrome, False otherwise.\n",
        "  \"\"\"\n",
        "  # Convert the number to a string\n",
        "  num_str = str(number)\n",
        "  # Reverse the string\n",
        "  reversed_num_str = num_str[::-1]\n",
        "  # Check if the original string is equal to the reversed string\n",
        "  return num_str == reversed_num_str\n",
        "\n",
        "# Get input from the user\n",
        "try:\n",
        "  user_input = int(input(\"Enter a number: \"))\n",
        "  if is_palindrome(user_input):\n",
        "    print(f\"{user_input} is a palindrome.\")\n",
        "  else:\n",
        "    print(f\"{user_input} is not a palindrome.\")\n",
        "except ValueError:\n",
        "  print(\"Invalid input. Please enter an integer.\")"
      ],
      "metadata": {
        "colab": {
          "base_uri": "https://localhost:8080/"
        },
        "id": "TyAtZrCcuoKG",
        "outputId": "fae14599-8be4-4d64-e2cf-6f5f178548bc"
      },
      "execution_count": 16,
      "outputs": [
        {
          "output_type": "stream",
          "name": "stdout",
          "text": [
            "Enter a number: 121\n",
            "121 is a palindrome.\n"
          ]
        }
      ]
    },
    {
      "cell_type": "markdown",
      "source": [
        "Task Description#3\n",
        "● Ask Gemini to explain a Python function (to calculate area of various shapes) line by line..\n",
        "Expected Output#3\n",
        "● Detailed explanation with code snippet"
      ],
      "metadata": {
        "id": "sXNyob-twMNs"
      }
    },
    {
      "cell_type": "code",
      "source": [
        "import math\n",
        "\n",
        "def calculate_area(shape, **kwargs):\n",
        "  \"\"\"\n",
        "  Calculates the area of various shapes.\n",
        "\n",
        "  Args:\n",
        "    shape (str): The name of the shape (e.g., 'square', 'rectangle', 'circle').\n",
        "    **kwargs: Keyword arguments for the shape's dimensions.\n",
        "\n",
        "  Returns:\n",
        "    float: The area of the shape, or None if the shape is not supported or\n",
        "           dimensions are missing/invalid.\n",
        "  \"\"\"\n",
        "  if shape.lower() == 'square':\n",
        "    side = kwargs.get('side')\n",
        "    if side is not None and side > 0:\n",
        "      return side * side\n",
        "    else:\n",
        "      print(\"Error: 'side' argument is required and must be positive for a square.\")\n",
        "      return None\n",
        "  elif shape.lower() == 'rectangle':\n",
        "    length = kwargs.get('length')\n",
        "    width = kwargs.get('width')\n",
        "    if length is not None and width is not None and length > 0 and width > 0:\n",
        "      return length * width\n",
        "    else:\n",
        "      print(\"Error: 'length' and 'width' arguments are required and must be positive for a rectangle.\")\n",
        "      return None\n",
        "  elif shape.lower() == 'circle':\n",
        "    radius = kwargs.get('radius')\n",
        "    if radius is not None and radius > 0:\n",
        "      return math.pi * radius**2\n",
        "    else:\n",
        "      print(\"Error: 'radius' argument is required and must be positive for a circle.\")\n",
        "      return None\n",
        "  else:\n",
        "    print(f\"Error: Shape '{shape}' not supported.\")\n",
        "    return None\n",
        "\n",
        "# Example usage:\n",
        "square_area = calculate_area('square', side=5)\n",
        "if square_area is not None:\n",
        "  print(f\"Area of square with side 5: {square_area}\")\n",
        "\n",
        "rectangle_area = calculate_area('rectangle', length=4, width=6)\n",
        "if rectangle_area is not None:\n",
        "  print(f\"Area of rectangle with length 4 and width 6: {rectangle_area}\")\n",
        "\n",
        "circle_area = calculate_area('circle', radius=3)\n",
        "if circle_area is not None:\n",
        "  print(f\"Area of circle with radius 3: {circle_area}\")\n",
        "\n",
        "# Example with missing arguments\n",
        "invalid_square_area = calculate_area('square')\n",
        "\n",
        "# Example with unsupported shape\n",
        "unsupported_area = calculate_area('triangle', base=4, height=5)"
      ],
      "metadata": {
        "colab": {
          "base_uri": "https://localhost:8080/"
        },
        "id": "taDpGNwsw_kP",
        "outputId": "bcd463b3-25a7-48bd-f06d-5cd193aeac13"
      },
      "execution_count": 17,
      "outputs": [
        {
          "output_type": "stream",
          "name": "stdout",
          "text": [
            "Area of square with side 5: 25\n",
            "Area of rectangle with length 4 and width 6: 24\n",
            "Area of circle with radius 3: 28.274333882308138\n",
            "Error: 'side' argument is required and must be positive for a square.\n",
            "Error: Shape 'triangle' not supported.\n"
          ]
        }
      ]
    },
    {
      "cell_type": "markdown",
      "source": [
        "Task Description#5\n",
        "● Student need to write code to calculate sum of add number and even numbers in the list\n",
        "Expected Output#5\n",
        "● Refactored code written by student with improved logic"
      ],
      "metadata": {
        "id": "Ou5l2o7jyFLI"
      }
    },
    {
      "cell_type": "code",
      "source": [
        "def sum_odd_even(numbers):\n",
        "  \"\"\"\n",
        "  Calculates the sum of odd and even numbers in a list.\n",
        "\n",
        "  Args:\n",
        "    numbers (list): A list of numbers.\n",
        "\n",
        "  Returns:\n",
        "    tuple: A tuple containing the sum of odd numbers and the sum of even numbers.\n",
        "  \"\"\"\n",
        "  sum_odd = 0\n",
        "  sum_even = 0\n",
        "  for number in numbers:\n",
        "    if number % 2 == 0:\n",
        "      sum_even += number\n",
        "    else:\n",
        "      sum_odd += number\n",
        "  return (sum_odd, sum_even)\n",
        "\n",
        "# Example usage:\n",
        "my_list = [1, 2, 3, 4, 5, 6, 7, 8, 9, 10]\n",
        "odd_sum, even_sum = sum_odd_even(my_list)\n",
        "\n",
        "print(f\"List: {my_list}\")\n",
        "print(f\"Sum of odd numbers: {odd_sum}\")\n",
        "print(f\"Sum of even numbers: {even_sum}\")"
      ],
      "metadata": {
        "colab": {
          "base_uri": "https://localhost:8080/"
        },
        "id": "vmhs8HzayRRo",
        "outputId": "30cdaa98-3795-40d3-8fad-e85f7f68a6df"
      },
      "execution_count": 18,
      "outputs": [
        {
          "output_type": "stream",
          "name": "stdout",
          "text": [
            "List: [1, 2, 3, 4, 5, 6, 7, 8, 9, 10]\n",
            "Sum of odd numbers: 25\n",
            "Sum of even numbers: 30\n"
          ]
        }
      ]
    }
  ]
}