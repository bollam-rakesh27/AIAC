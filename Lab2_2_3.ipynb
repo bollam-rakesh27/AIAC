{
  "nbformat": 4,
  "nbformat_minor": 0,
  "metadata": {
    "colab": {
      "provenance": [],
      "authorship_tag": "ABX9TyOBUg6VIJtGsRCZgIZWNKUw",
      "include_colab_link": true
    },
    "kernelspec": {
      "name": "python3",
      "display_name": "Python 3"
    },
    "language_info": {
      "name": "python"
    }
  },
  "cells": [
    {
      "cell_type": "markdown",
      "metadata": {
        "id": "view-in-github",
        "colab_type": "text"
      },
      "source": [
        "<a href=\"https://colab.research.google.com/github/bollam-rakesh27/AIAC/blob/main/Lab2_2_3.ipynb\" target=\"_parent\"><img src=\"https://colab.research.google.com/assets/colab-badge.svg\" alt=\"Open In Colab\"/></a>"
      ]
    },
    {
      "cell_type": "markdown",
      "source": [
        "Task Description#1\n",
        "● Use Google Gemini in Colab to write a function that reads a CSV file and calculates mean, min, max.\n",
        "Expected Output#1\n",
        "● Functional code with output and screensho"
      ],
      "metadata": {
        "id": "rb2KbjTK_Fpb"
      }
    },
    {
      "cell_type": "code",
      "metadata": {
        "id": "7efe62da"
      },
      "source": [
        "import pandas as pd\n",
        "\n",
        "def analyze_csv_column(file_path, column_name):\n",
        "  \"\"\"\n",
        "  Reads a CSV file, calculates mean, min, and max of a specified column.\n",
        "\n",
        "  Args:\n",
        "    file_path (str): The path to the CSV file.\n",
        "    column_name (str): The name of the column to analyze.\n",
        "\n",
        "  Returns:\n",
        "    tuple: A tuple containing (mean, min, max) of the column, or None if an error occurs.\n",
        "  \"\"\"\n",
        "  try:\n",
        "    df = pd.read_csv(file_path)\n",
        "    if column_name not in df.columns:\n",
        "      print(f\"Error: Column '{column_name}' not found in the CSV file.\")\n",
        "      return None\n",
        "\n",
        "    # Ensure the column is numeric\n",
        "    df[column_name] = pd.to_numeric(df[column_name], errors='coerce')\n",
        "\n",
        "    # Drop rows where conversion to numeric failed\n",
        "    df.dropna(subset=[column_name], inplace=True)\n",
        "\n",
        "    if df[column_name].empty:\n",
        "        print(f\"Error: Column '{column_name}' contains no valid numeric data.\")\n",
        "        return None\n",
        "\n",
        "    mean_val = df[column_name].mean()\n",
        "    min_val = df[column_name].min()\n",
        "    max_val = df[column_name].max()\n",
        "\n",
        "    return (mean_val, min_val, max_val)\n",
        "\n",
        "  except FileNotFoundError:\n",
        "    print(f\"Error: File not found at '{file_path}'\")\n",
        "    return None\n",
        "  except Exception as e:\n",
        "    print(f\"An error occurred: {e}\")\n",
        "    return None\n",
        "\n"
      ],
      "execution_count": null,
      "outputs": []
    },
    {
      "cell_type": "code",
      "metadata": {
        "colab": {
          "base_uri": "https://localhost:8080/"
        },
        "id": "820d9445",
        "outputId": "6e5710b0-1774-4753-8aa1-86aa9a09f711"
      },
      "source": [
        "\n",
        "\n",
        " file_path = \"/content/Lab2_2.3.csv\"\n",
        " column_name = \"Marks\"\n",
        "\n",
        " results = analyze_csv_column(file_path, column_name)\n",
        "\n",
        " if results:\n",
        "   mean_val, min_val, max_val = results\n",
        "   print(f\"Analysis for column '{column_name}':\")\n",
        "   print(f\"Mean: {mean_val}\")\n",
        "   print(f\"Min: {min_val}\")\n",
        "   print(f\"Max: {max_val}\")\n",
        " else:\n",
        "   print(f\"Could not analyze column '{column_name}'. Check file path and column name.\")"
      ],
      "execution_count": 13,
      "outputs": [
        {
          "output_type": "stream",
          "name": "stdout",
          "text": [
            "Analysis for column 'Marks':\n",
            "Mean: 27.666666666666668\n",
            "Min: 12\n",
            "Max: 48\n"
          ]
        }
      ]
    },
    {
      "cell_type": "code",
      "source": [],
      "metadata": {
        "id": "eunNqvf1NXM5"
      },
      "execution_count": null,
      "outputs": []
    }
  ]
}